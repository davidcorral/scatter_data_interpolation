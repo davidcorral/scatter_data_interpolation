{
 "cells": [
  {
   "cell_type": "markdown",
   "metadata": {},
   "source": [
    "# Radial Basis Function with First degree Polynomial #\n",
    "\n",
    "### Notation ###\n",
    "\n",
    "$R$ Matrix version  \n",
    "$R_{ij}$ Element of Matrix  \n",
    "$R_{ij} = \\phi(||x_i-x_j||)$  \n",
    "$\\phi$ Kernel\n",
    "\n",
    "* * *\n",
    "\n",
    "$\n",
    "f(x) = \\displaystyle \\sum_{i=0}^n{w_i\\phi(||x_i-x||)} + p(x) \\\\\n",
    "\\text{where, } x \\in \\mathbb{R}^2\n",
    "$\n",
    "\n",
    "$\n",
    "p(x) = a + bx_1 + cx_2 \\dots\n",
    "$\n",
    "\n"
   ]
  },
  {
   "cell_type": "markdown",
   "metadata": {},
   "source": [
    "\n",
    "$\n",
    "b_1= R_{11}w_1 + \\dots + R_{1n}w_n + a + bx_1 + cx_2\n",
    "$\n",
    "\n",
    "$\n",
    "\\begin{bmatrix}\n",
    "R_{11} & R_{12} & \\dots \\\\\n",
    "R_{21} & R_{22} & \\dots \\\\\n",
    "\\vdots &        & \\ddots \\\\\n",
    "\\vdots &        &         & R_{n,n} \\\\\n",
    "\\end{bmatrix}\n",
    "$\n",
    "\n",
    "$\n",
    "t = \\begin{bmatrix} 1, & x_1, & \\dots , & x_n \\end{bmatrix}\n",
    "$\n",
    "\n",
    "$\n",
    "\\begin{bmatrix}\n",
    "R & 0 \\\\\n",
    "t & 1\n",
    "\\end{bmatrix} x\n",
    "\\begin{bmatrix}\n",
    "w_i \\\\\n",
    "\\vdots \\\\\n",
    "w_k\n",
    "\\end{bmatrix} =\n",
    "\\begin{bmatrix}\n",
    "b\n",
    "\\vdots \\\\\n",
    "b\n",
    "\\end{bmatrix}\n",
    "\\text{where}, k = n*2+1\n",
    "$"
   ]
  },
  {
   "cell_type": "code",
   "execution_count": 1,
   "metadata": {},
   "outputs": [],
   "source": [
    "# create sample data #\n",
    "import numpy\n",
    "from scipy.spatial.distance import euclidean\n",
    "\n",
    "numpy.set_printoptions(suppress=True, precision=2)\n",
    "\n",
    "n = 5\n",
    "dim = 2\n",
    "S = numpy.random.random((n, dim))\n",
    "b = numpy.random.random((n, 3))\n",
    "gaussian = lambda r,c: numpy.exp(-(r*c)**2)\n",
    "\n",
    "# build R\n",
    "R = numpy.empty((n, n))\n",
    "for i in range(n):\n",
    "    for j in range(n):\n",
    "        R[i,j] = gaussian(euclidean(S[i], S[j]), 2.0)\n",
    "\n",
    "# build t\n"
   ]
  },
  {
   "cell_type": "markdown",
   "metadata": {},
   "source": [
    "\n",
    "$\n",
    "T + Ax = b\n",
    "\\\\\n",
    "Ax = b-T\n",
    "\\\\\n",
    "x = A^{-1}b-T\n",
    "$\n",
    "\n"
   ]
  },
  {
   "cell_type": "code",
   "execution_count": 36,
   "metadata": {},
   "outputs": [
    {
     "name": "stdout",
     "output_type": "stream",
     "text": [
      "[[0.56402663 0.04645485]\n",
      " [0.56402663 0.04645485]]\n"
     ]
    }
   ],
   "source": [
    "AI = numpy.linalg.inv(A)\n",
    "x = AI.dot(b - T)\n",
    "\n",
    "print(T+A.dot(x))"
   ]
  },
  {
   "cell_type": "markdown",
   "metadata": {},
   "source": [
    "* * *"
   ]
  },
  {
   "cell_type": "code",
   "execution_count": null,
   "metadata": {},
   "outputs": [],
   "source": []
  },
  {
   "cell_type": "markdown",
   "metadata": {},
   "source": [
    "$\n",
    "T + Ax = b\n",
    "\\\\\n",
    "T^{-1}(T+Ax) = T^{-1}b\n",
    "\\\\\n",
    "T^{-1}T+T^{-1}Ax = T^{-1}b\n",
    "\\\\\n",
    "I + T^{-1}Ax = T^{-1}b\n",
    "\\\\\n",
    "G = T^{-1}A\n",
    "\\\\\n",
    "Gx = T^{-1}b\n",
    "\\\\\n",
    "x = G^{-1}T^{-1}b\n",
    "$\n",
    "\n"
   ]
  },
  {
   "cell_type": "code",
   "execution_count": 27,
   "metadata": {},
   "outputs": [
    {
     "data": {
      "text/plain": [
       "array([-2.79605633,  3.664189  ])"
      ]
     },
     "execution_count": 27,
     "metadata": {},
     "output_type": "execute_result"
    }
   ],
   "source": [
    "TI = numpy.linalg.inv(T)\n",
    "G  = numpy.dot(TI, A)\n",
    "GI = numpy.linalg.inv(G)\n",
    "\n",
    "x = GI.dot(TI).dot(b)"
   ]
  }
 ],
 "metadata": {
  "kernelspec": {
   "display_name": "Python 3",
   "language": "python",
   "name": "python3"
  },
  "language_info": {
   "codemirror_mode": {
    "name": "ipython",
    "version": 3
   },
   "file_extension": ".py",
   "mimetype": "text/x-python",
   "name": "python",
   "nbconvert_exporter": "python",
   "pygments_lexer": "ipython3",
   "version": "3.8.2"
  }
 },
 "nbformat": 4,
 "nbformat_minor": 4
}
